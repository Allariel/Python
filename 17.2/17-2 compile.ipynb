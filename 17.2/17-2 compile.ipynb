{
 "cells": [
  {
   "cell_type": "code",
   "execution_count": 1,
   "id": "866ab61f",
   "metadata": {},
   "outputs": [],
   "source": [
    "import cv2\n",
    "import matplotlib.pyplot as plt\n",
    "import numpy as np\n",
    "from IPython.display import display, clear_output\n",
    "from PIL import Image"
   ]
  },
  {
   "cell_type": "code",
   "execution_count": 2,
   "id": "6f151156",
   "metadata": {},
   "outputs": [
    {
     "data": {
      "text/plain": [
       "['Бублик одноцветный.jpg',\n",
       " 'Бублик+прямоугольник.jpg',\n",
       " 'Бублик.jpg',\n",
       " 'Прямоугольники.png',\n",
       " 'Рояль.jpg',\n",
       " 'Стол.jpg',\n",
       " 'Эллипсы.png']"
      ]
     },
     "execution_count": 2,
     "metadata": {},
     "output_type": "execute_result"
    }
   ],
   "source": [
    "import os\n",
    "files = os.listdir()\n",
    "fls = []\n",
    "for i in range(len(files)):\n",
    "  if files[i].endswith('.jpg') or files[i].endswith('.png'):\n",
    "    fls.append(files[i])\n",
    "fls"
   ]
  },
  {
   "cell_type": "code",
   "execution_count": 3,
   "id": "c7426b12",
   "metadata": {},
   "outputs": [],
   "source": [
    "imgList = []\n",
    "for i in range(len(fls)):\n",
    "  imgList.append(cv2.imread(fls[i]))"
   ]
  },
  {
   "cell_type": "code",
   "execution_count": 4,
   "id": "84ee0bdc",
   "metadata": {},
   "outputs": [
    {
     "ename": "error",
     "evalue": "OpenCV(4.7.0) D:\\a\\opencv-python\\opencv-python\\opencv\\modules\\imgproc\\src\\color.cpp:182: error: (-215:Assertion failed) !_src.empty() in function 'cv::cvtColor'\n",
     "output_type": "error",
     "traceback": [
      "\u001b[1;31m---------------------------------------------------------------------------\u001b[0m",
      "\u001b[1;31merror\u001b[0m                                     Traceback (most recent call last)",
      "\u001b[1;32m~\\AppData\\Local\\Temp\\ipykernel_15092\\2189331510.py\u001b[0m in \u001b[0;36m<module>\u001b[1;34m\u001b[0m\n\u001b[0;32m      1\u001b[0m \u001b[0mimgListHSV\u001b[0m \u001b[1;33m=\u001b[0m \u001b[1;33m[\u001b[0m\u001b[1;33m]\u001b[0m\u001b[1;33m\u001b[0m\u001b[1;33m\u001b[0m\u001b[0m\n\u001b[0;32m      2\u001b[0m \u001b[1;32mfor\u001b[0m \u001b[0mi\u001b[0m \u001b[1;32min\u001b[0m \u001b[0mrange\u001b[0m\u001b[1;33m(\u001b[0m\u001b[0mlen\u001b[0m\u001b[1;33m(\u001b[0m\u001b[0mimgList\u001b[0m\u001b[1;33m)\u001b[0m\u001b[1;33m)\u001b[0m\u001b[1;33m:\u001b[0m\u001b[1;33m\u001b[0m\u001b[1;33m\u001b[0m\u001b[0m\n\u001b[1;32m----> 3\u001b[1;33m   \u001b[0mimgListHSV\u001b[0m\u001b[1;33m.\u001b[0m\u001b[0mappend\u001b[0m\u001b[1;33m(\u001b[0m\u001b[0mcv2\u001b[0m\u001b[1;33m.\u001b[0m\u001b[0mcvtColor\u001b[0m\u001b[1;33m(\u001b[0m\u001b[0mimgList\u001b[0m\u001b[1;33m[\u001b[0m\u001b[0mi\u001b[0m\u001b[1;33m]\u001b[0m\u001b[1;33m,\u001b[0m \u001b[0mcv2\u001b[0m\u001b[1;33m.\u001b[0m\u001b[0mCOLOR_BGR2HSV\u001b[0m\u001b[1;33m)\u001b[0m\u001b[1;33m)\u001b[0m\u001b[1;33m\u001b[0m\u001b[1;33m\u001b[0m\u001b[0m\n\u001b[0m",
      "\u001b[1;31merror\u001b[0m: OpenCV(4.7.0) D:\\a\\opencv-python\\opencv-python\\opencv\\modules\\imgproc\\src\\color.cpp:182: error: (-215:Assertion failed) !_src.empty() in function 'cv::cvtColor'\n"
     ]
    }
   ],
   "source": [
    "imgListHSV = []\n",
    "for i in range(len(imgList)):\n",
    "  imgListHSV.append(cv2.cvtColor(imgList[i], cv2.COLOR_BGR2HSV))"
   ]
  },
  {
   "cell_type": "code",
   "execution_count": null,
   "id": "be16a5e9",
   "metadata": {},
   "outputs": [],
   "source": [
    "imgListCpy = imgList.copy()\n",
    "\n",
    "def find_contours(Img, HSV_MIN, HSV_MAX, Cont_colour = (255,0,0), Cont_size = 3):\n",
    "  hsv_img = cv2.cvtColor(Img, cv2.COLOR_BGR2HSV )\n",
    "  hsv_min = np.array(HSV_MIN, np.uint8) # подбираем параметры цветового фильтра для выделения нашего объекта (указанные числовые значения могут отличаться)\n",
    "  hsv_max = np.array(HSV_MAX, np.uint8)\n",
    "  hsv_msk = cv2.inRange(hsv_img, hsv_min, hsv_max ) \n",
    "  cv2_imshow(hsv_msk)\n",
    "  con, hier = cv2.findContours(hsv_msk, cv2.RETR_LIST, cv2.CHAIN_APPROX_SIMPLE)\n",
    "  cv2.drawContours(Img, con, -1, Cont_colour, 3, cv2.LINE_AA, hier, Cont_size)\n",
    "  cv2_imshow(Img)\n",
    "\n",
    "def box_cont_all(Img, HSV_MIN, HSV_MAX, Cont_colour = (255,0,0), Cont_size = 3):\n",
    "  hsv_img = cv2.cvtColor(Img, cv2.COLOR_BGR2HSV )# конвертируем исходное изображение в цветовую модель HSV, результат записываем в переменную hsv_img\n",
    "  hsv_min = np.array(HSV_MIN, np.uint8) # подбираем параметры цветового фильтра для выделения нашего объекта (указанные числовые значения могут отличаться)\n",
    "  hsv_max = np.array(HSV_MAX, np.uint8)\n",
    "  hsv_msk = cv2.inRange( hsv_img, hsv_min, hsv_max ) # применяем цветовой фильтр к исходному изображению, результат записываем в переменную hsv_msk\n",
    "  # ищем контуры и записываем их в переменную contours в режиме поиска всех контуров без группировки cv2.RETR_LIST для хранения контуров используем\n",
    "  # метод cv2.CHAIN_APPROX_SIMPLE\n",
    "  contours, hierarchy = cv2.findContours(hsv_msk, cv2.RETR_LIST, cv2.CHAIN_APPROX_SIMPLE)\n",
    "  # перебираем все найденные контуры в цикле\n",
    "  for icontour in contours:\n",
    "    rect = cv2.minAreaRect(icontour) # ищем прямоугольник, результат записываем в rect\n",
    "    box = cv2.boxPoints(rect) # поиск вершин прямоугольника, результат записываем в box\n",
    "    box = np.int0(box) # округление координат вершин, результат записываем в box\n",
    "    # рисуем прямоугольник поверх исходного изображения цвет синий, толщина линии 3, поскольку рисуем\n",
    "    # единственный объект [box], остальные параметры опускаем\n",
    "    cv2.drawContours(Img, [box], -1, (255, 0, 0), 3)\n",
    "  cv2_imshow(Img)\n",
    "\n",
    "def circle_cont_all(Img, HSV_MIN, HSV_MAX, Cont_colour = (255,0,255), Cont_size = 3):\n",
    "  hsv_img = cv2.cvtColor( Img, cv2.COLOR_BGR2HSV )# конвертируем исходное изображение в цветовую модель HSV, результат записываем в переменную hsv_img\n",
    "  hsv_min = np.array(HSV_MIN, np.uint8)# подбираем параметры цветового фильтра для выделения нашего объекта (указанные числовые значения могут отличаться)\n",
    "  hsv_max = np.array(HSV_MAX, np.uint8)\n",
    "  hsv_msk = cv2.inRange( hsv_img, hsv_min, hsv_max ) # применяем цветовой фильтр к исходному изображению, результат записываем в переменную hsv_msk\n",
    "  # ищем контуры и записываем их в переменную contours в режиме поиска всех контуров без группировки cv2.RETR_LIST для хранения контуров используем\n",
    "  # метод cv2.CHAIN_APPROX_SIMPLE\n",
    "  contours, hierarchy = cv2.findContours(hsv_msk, cv2.RETR_LIST, cv2.CHAIN_APPROX_SIMPLE)\n",
    "  for icontour in contours: # перебираем все найденные контуры в цикле \n",
    "    if len(icontour)>40:# выбираем контуры с длиной больше 40 точек \n",
    "      ellipse = cv2.fitEllipse(icontour)# записываем в переменную ellipse, отвечающий условию контур в форме эллипса\n",
    "      cv2.ellipse(Img, ellipse, Cont_colour, 2)# отображаем найденный эллипс\n",
    "  cv2_imshow(Img)\n",
    "\n",
    "def box_cont_size(Img, HSV_MIN, HSV_MAX, Size_A, Size_B, Cont_colour = (255,0,0), Cont_size = 3):\n",
    "  hsv_img = cv2.cvtColor(Img, cv2.COLOR_BGR2HSV )# конвертируем исходное изображение в цветовую модель HSV, результат записываем в переменную hsv_img\n",
    "  hsv_min = np.array(HSV_MIN, np.uint8) # подбираем параметры цветового фильтра для выделения нашего объекта (указанные числовые значения могут отличаться)\n",
    "  hsv_max = np.array(HSV_MAX, np.uint8)\n",
    "  hsv_msk = cv2.inRange( hsv_img, hsv_min, hsv_max ) # применяем цветовой фильтр к исходному изображению, результат записываем в переменную hsv_msk\n",
    "  # ищем контуры и записываем их в переменную contours в режиме поиска всех контуров без группировки cv2.RETR_LIST для хранения контуров используем\n",
    "  # метод cv2.CHAIN_APPROX_SIMPLE\n",
    "  contours, hierarchy = cv2.findContours(hsv_msk, cv2.RETR_LIST, cv2.CHAIN_APPROX_SIMPLE)\n",
    "  for icontour in contours: # перебираем все найденные контуры в цикле\n",
    "    rect = cv2.minAreaRect(icontour) # ищем прямоугольник, результат записываем в rect\n",
    "    area = int(rect[1][0]*rect[1][1]) # вычисление площади\n",
    "    if Size_A <= area <= Size_B: # если площадь больше указанного значения, эти контуры выводим, значение подбираем экспериментально  \n",
    "        box = cv2.boxPoints(rect) # поиск вершин прямоугольника, результат записываем в box\n",
    "        box = np.int0(box) # округление координат вершин, результат записываем в box\n",
    "        # рисуем прямоугольник поверх исходного изображения цвет синий, толщина линии 3, поскольку рисуем\n",
    "        # единственный объект [box], остальные параметры опускаем\n",
    "        cv2.drawContours(Img, [box], -1, Cont_colour, Cont_size)\n",
    "  cv2_imshow(Img)\n",
    "  return Img\n",
    "\n",
    "def circle_cont_size(Img, HSV_MIN, HSV_MAX, Size_A, Size_B, Cont_colour = (255,0,255), Cont_size = 3):\n",
    "  hsv_img = cv2.cvtColor( Img, cv2.COLOR_BGR2HSV )# конвертируем исходное изображение в цветовую модель HSV, результат записываем в переменную hsv_img\n",
    "  hsv_min = np.array(HSV_MIN, np.uint8)# подбираем параметры цветового фильтра для выделения нашего объекта (указанные числовые значения могут отличаться)\n",
    "  hsv_max = np.array(HSV_MAX, np.uint8)\n",
    "  hsv_msk = cv2.inRange( hsv_img, hsv_min, hsv_max ) # применяем цветовой фильтр к исходному изображению, результат записываем в переменную hsv_msk\n",
    "  # ищем контуры и записываем их в переменную contours в режиме поиска всех контуров без группировки cv2.RETR_LIST для хранения контуров используем\n",
    "  # метод cv2.CHAIN_APPROX_SIMPLE\n",
    "  contours, hierarchy = cv2.findContours(hsv_msk, cv2.RETR_LIST, cv2.CHAIN_APPROX_SIMPLE)\n",
    "  for icontour in contours: # перебираем все найденные контуры в цикле \n",
    "    if Size_A <= len(icontour) <= Size_B:# выбираем контуры с длиной больше 40 точек \n",
    "      ellipse = cv2.fitEllipse(icontour)# записываем в переменную ellipse, отвечающий условию контур в форме эллипса\n",
    "      cv2.ellipse(Img, ellipse, Cont_colour, 2)# отображаем найденный эллипс\n",
    "  cv2_imshow(Img)\n",
    "  return Img"
   ]
  }
 ],
 "metadata": {
  "kernelspec": {
   "display_name": "Python 3 (ipykernel)",
   "language": "python",
   "name": "python3"
  },
  "language_info": {
   "codemirror_mode": {
    "name": "ipython",
    "version": 3
   },
   "file_extension": ".py",
   "mimetype": "text/x-python",
   "name": "python",
   "nbconvert_exporter": "python",
   "pygments_lexer": "ipython3",
   "version": "3.9.13"
  }
 },
 "nbformat": 4,
 "nbformat_minor": 5
}
