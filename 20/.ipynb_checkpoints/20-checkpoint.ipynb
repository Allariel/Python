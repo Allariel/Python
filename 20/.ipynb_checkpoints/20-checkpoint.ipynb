{
 "cells": [
  {
   "cell_type": "code",
   "execution_count": 71,
   "id": "5da82c29",
   "metadata": {},
   "outputs": [
    {
     "data": {
      "text/plain": [
       "[]"
      ]
     },
     "execution_count": 71,
     "metadata": {},
     "output_type": "execute_result"
    }
   ],
   "source": [
    "import os # чтение файлов и структуры директорий\n",
    "from keras.models import Sequential\n",
    "from keras.layers import Dense, Flatten\n",
    "from keras.layers import Dropout\n",
    "from keras.layers.convolutional import Conv2D, MaxPooling2D\n",
    "from keras import utils\n",
    "from keras.preprocessing import image\n",
    "from keras.preprocessing.image import ImageDataGenerator\n",
    "import numpy as np\n",
    "import matplotlib.pyplot as plt\n",
    "from PIL import Image\n",
    "%matplotlib inline \n",
    "import tensorflow as tf\n",
    "tf.config.list_physical_devices('GPU')"
   ]
  },
  {
   "cell_type": "code",
   "execution_count": 72,
   "id": "fbba46de",
   "metadata": {},
   "outputs": [
    {
     "name": "stdout",
     "output_type": "stream",
     "text": [
      "Total Number of Classes : 15 \n",
      "Class Names : ['Bean', 'Bitter_Gourd', 'Bottle_Gourd', 'Brinjal', 'Broccoli', 'Cabbage', 'Capsicum', 'Carrot', 'Cauliflower', 'Cucumber', 'Papaya', 'Potato', 'Pumpkin', 'Radish', 'Tomato']\n"
     ]
    }
   ],
   "source": [
    "import os\n",
    "root_path = 'vg/train'\n",
    "class_names = sorted(os.listdir(root_path))\n",
    "n_classes = len(class_names)\n",
    "print(f\"Total Number of Classes : {n_classes} \\nClass Names : {class_names}\")\n"
   ]
  },
  {
   "cell_type": "code",
   "execution_count": 73,
   "id": "c7d5c9eb",
   "metadata": {},
   "outputs": [],
   "source": [
    "BATCH_SIZE = 100 # размер минибэтча\n",
    "IMAGE_SHAPE = (224,224) # размерность, к которой будет приведено входное изображение\n",
    "\n",
    "TRAINING_DATA_DIR = 'vg/train'\n",
    "VALID_DATA_DIR = 'vg/validation'\n",
    "TEST_DATA_DIR = 'vg/test'"
   ]
  },
  {
   "cell_type": "code",
   "execution_count": 74,
   "id": "2b7682aa",
   "metadata": {},
   "outputs": [
    {
     "name": "stdout",
     "output_type": "stream",
     "text": [
      "Found 15000 images belonging to 15 classes.\n",
      "Found 3000 images belonging to 15 classes.\n",
      "Found 3000 images belonging to 15 classes.\n"
     ]
    }
   ],
   "source": [
    "datagen = tf.keras.preprocessing.image.ImageDataGenerator(\n",
    "    rescale=1./255\n",
    ")\n",
    "train_generator = datagen.flow_from_directory(\n",
    "    TRAINING_DATA_DIR,\n",
    "    shuffle=True,\n",
    "    target_size=IMAGE_SHAPE,\n",
    ")\n",
    "valid_generator = datagen.flow_from_directory(\n",
    "    VALID_DATA_DIR,\n",
    "    shuffle=False,\n",
    "    target_size=IMAGE_SHAPE,\n",
    ")\n",
    "test_generator = datagen.flow_from_directory(\n",
    "    TEST_DATA_DIR,\n",
    "    shuffle=False,\n",
    "    target_size=IMAGE_SHAPE,\n",
    ")"
   ]
  },
  {
   "cell_type": "code",
   "execution_count": 75,
   "id": "5df3033f",
   "metadata": {},
   "outputs": [],
   "source": [
    "def build_model(num_classes):\n",
    "    model = tf.keras.Sequential([\n",
    "    tf.keras.layers.Conv2D(filters=16, kernel_size=(9, 9), activation='relu', \n",
    "                           input_shape=(224, 224, 3)),\n",
    "    tf.keras.layers.MaxPooling2D(pool_size=(2, 2), strides=2),\n",
    "    tf.keras.layers.Conv2D(filters=16, kernel_size=(5, 5), activation='relu'),\n",
    "    tf.keras.layers.BatchNormalization(),\n",
    "    tf.keras.layers.MaxPooling2D(pool_size=(2, 2), strides=2),\n",
    "    tf.keras.layers.Conv2D(filters=32, kernel_size=(3, 3), activation='relu'),\n",
    "    tf.keras.layers.BatchNormalization(),\n",
    "    tf.keras.layers.MaxPooling2D(pool_size=(2, 2), strides=2),\n",
    "    tf.keras.layers.Flatten(),\n",
    "    tf.keras.layers.Dense(128, activation='relu'),\n",
    "    tf.keras.layers.Dropout(0.25),\n",
    "    tf.keras.layers.Dense(num_classes, activation='softmax')\n",
    "    ])\n",
    "    return model\n",
    "model = build_model(num_classes=15)"
   ]
  },
  {
   "cell_type": "code",
   "execution_count": 76,
   "id": "1d3f4986",
   "metadata": {},
   "outputs": [
    {
     "name": "stdout",
     "output_type": "stream",
     "text": [
      "Model: \"sequential_6\"\n",
      "_________________________________________________________________\n",
      " Layer (type)                Output Shape              Param #   \n",
      "=================================================================\n",
      " conv2d_22 (Conv2D)          (None, 216, 216, 16)      3904      \n",
      "                                                                 \n",
      " max_pooling2d_22 (MaxPoolin  (None, 108, 108, 16)     0         \n",
      " g2D)                                                            \n",
      "                                                                 \n",
      " conv2d_23 (Conv2D)          (None, 104, 104, 16)      6416      \n",
      "                                                                 \n",
      " batch_normalization_4 (Batc  (None, 104, 104, 16)     64        \n",
      " hNormalization)                                                 \n",
      "                                                                 \n",
      " max_pooling2d_23 (MaxPoolin  (None, 52, 52, 16)       0         \n",
      " g2D)                                                            \n",
      "                                                                 \n",
      " conv2d_24 (Conv2D)          (None, 50, 50, 32)        4640      \n",
      "                                                                 \n",
      " batch_normalization_5 (Batc  (None, 50, 50, 32)       128       \n",
      " hNormalization)                                                 \n",
      "                                                                 \n",
      " max_pooling2d_24 (MaxPoolin  (None, 25, 25, 32)       0         \n",
      " g2D)                                                            \n",
      "                                                                 \n",
      " flatten_6 (Flatten)         (None, 20000)             0         \n",
      "                                                                 \n",
      " dense_12 (Dense)            (None, 128)               2560128   \n",
      "                                                                 \n",
      " dropout_22 (Dropout)        (None, 128)               0         \n",
      "                                                                 \n",
      " dense_13 (Dense)            (None, 15)                1935      \n",
      "                                                                 \n",
      "=================================================================\n",
      "Total params: 2,577,215\n",
      "Trainable params: 2,577,119\n",
      "Non-trainable params: 96\n",
      "_________________________________________________________________\n",
      "None\n"
     ]
    }
   ],
   "source": [
    "model.compile(\n",
    "    optimizer=tf.keras.optimizers.Adam(learning_rate=0.001),\n",
    "    loss=tf.keras.losses.CategoricalCrossentropy(),\n",
    "    metrics=['accuracy']\n",
    ")\n",
    "print(model.summary())"
   ]
  },
  {
   "cell_type": "code",
   "execution_count": 77,
   "id": "f3c4264c",
   "metadata": {},
   "outputs": [
    {
     "name": "stdout",
     "output_type": "stream",
     "text": [
      "Model: \"sequential_6\"\n",
      "_________________________________________________________________\n",
      " Layer (type)                Output Shape              Param #   \n",
      "=================================================================\n",
      " conv2d_22 (Conv2D)          (None, 216, 216, 16)      3904      \n",
      "                                                                 \n",
      " max_pooling2d_22 (MaxPoolin  (None, 108, 108, 16)     0         \n",
      " g2D)                                                            \n",
      "                                                                 \n",
      " conv2d_23 (Conv2D)          (None, 104, 104, 16)      6416      \n",
      "                                                                 \n",
      " batch_normalization_4 (Batc  (None, 104, 104, 16)     64        \n",
      " hNormalization)                                                 \n",
      "                                                                 \n",
      " max_pooling2d_23 (MaxPoolin  (None, 52, 52, 16)       0         \n",
      " g2D)                                                            \n",
      "                                                                 \n",
      " conv2d_24 (Conv2D)          (None, 50, 50, 32)        4640      \n",
      "                                                                 \n",
      " batch_normalization_5 (Batc  (None, 50, 50, 32)       128       \n",
      " hNormalization)                                                 \n",
      "                                                                 \n",
      " max_pooling2d_24 (MaxPoolin  (None, 25, 25, 32)       0         \n",
      " g2D)                                                            \n",
      "                                                                 \n",
      " flatten_6 (Flatten)         (None, 20000)             0         \n",
      "                                                                 \n",
      " dense_12 (Dense)            (None, 128)               2560128   \n",
      "                                                                 \n",
      " dropout_22 (Dropout)        (None, 128)               0         \n",
      "                                                                 \n",
      " dense_13 (Dense)            (None, 15)                1935      \n",
      "                                                                 \n",
      "=================================================================\n",
      "Total params: 2,577,215\n",
      "Trainable params: 2,577,119\n",
      "Non-trainable params: 96\n",
      "_________________________________________________________________\n"
     ]
    }
   ],
   "source": [
    "model.summary()"
   ]
  },
  {
   "cell_type": "code",
   "execution_count": 78,
   "id": "af4cadec",
   "metadata": {
    "scrolled": true
   },
   "outputs": [
    {
     "name": "stdout",
     "output_type": "stream",
     "text": [
      "Epoch 1/10\n",
      "234/234 [==============================] - 251s 1s/step - loss: 2.2266 - accuracy: 0.4101 - val_loss: 3.1507 - val_accuracy: 0.3675\n",
      "Epoch 2/10\n",
      "234/234 [==============================] - 249s 1s/step - loss: 1.3195 - accuracy: 0.6009 - val_loss: 2.1016 - val_accuracy: 0.4762\n",
      "Epoch 3/10\n",
      "234/234 [==============================] - 247s 1s/step - loss: 1.0134 - accuracy: 0.6828 - val_loss: 2.9610 - val_accuracy: 0.3852\n",
      "Epoch 4/10\n",
      "234/234 [==============================] - 249s 1s/step - loss: 0.7937 - accuracy: 0.7520 - val_loss: 1.3679 - val_accuracy: 0.7024\n",
      "Epoch 5/10\n",
      "234/234 [==============================] - 254s 1s/step - loss: 0.6739 - accuracy: 0.7905 - val_loss: 1.0915 - val_accuracy: 0.7262\n",
      "Epoch 6/10\n",
      "234/234 [==============================] - 255s 1s/step - loss: 0.5490 - accuracy: 0.8329 - val_loss: 0.6801 - val_accuracy: 0.7976\n",
      "Epoch 7/10\n",
      "234/234 [==============================] - 263s 1s/step - loss: 0.4666 - accuracy: 0.8551 - val_loss: 1.6692 - val_accuracy: 0.7337\n",
      "Epoch 8/10\n",
      "234/234 [==============================] - 265s 1s/step - loss: 0.3938 - accuracy: 0.8786 - val_loss: 0.9951 - val_accuracy: 0.7106\n",
      "Epoch 9/10\n",
      "234/234 [==============================] - 263s 1s/step - loss: 0.3783 - accuracy: 0.8807 - val_loss: 1.2155 - val_accuracy: 0.6617\n",
      "Epoch 10/10\n",
      "234/234 [==============================] - 258s 1s/step - loss: 0.3798 - accuracy: 0.8825 - val_loss: 3.4567 - val_accuracy: 0.5673\n"
     ]
    }
   ],
   "source": [
    "EPOCHS = 10\n",
    "BATCH_SIZE = 32\n",
    "#early_stop = EarlyStopping(monitor='loss', patience=5, restore_best_weights = True)\n",
    "history = model.fit(train_generator,\n",
    "                    steps_per_epoch=train_generator.samples // BATCH_SIZE // 2,\n",
    "                    epochs=EPOCHS,\n",
    "                    validation_data=valid_generator,\n",
    "                    validation_steps= valid_generator.samples // BATCH_SIZE // 2,\n",
    "                    verbose=1,\n",
    "                    #callbacks=[early_stop],\n",
    "                    shuffle=True\n",
    "                    )"
   ]
  },
  {
   "cell_type": "code",
   "execution_count": 81,
   "id": "dd922e2a",
   "metadata": {},
   "outputs": [
    {
     "data": {
      "image/png": "[encoded data removed]",
      "text/plain": [
       "<Figure size 900x540 with 1 Axes>"
      ]
     },
     "metadata": {},
     "output_type": "display_data"
    }
   ],
   "source": [
    "history_dict = history.history\n",
    "acc_values = history_dict['accuracy']\n",
    "val_acc_values = history_dict['val_accuracy']\n",
    "epochs = range(1, len(acc_values) + 1)\n",
    "plt.figure(figsize=(10,6), dpi=90)\n",
    "plt.plot(epochs, val_acc_values, 'b', label='Validation')\n",
    "plt.plot(epochs, acc_values, 'r', label='Train')\n",
    "plt.xlabel('Epochs')\n",
    "plt.ylabel('accuracy')\n",
    "plt.legend()\n",
    "plt.show()"
   ]
  },
  {
   "cell_type": "code",
   "execution_count": 83,
   "id": "627da033",
   "metadata": {},
   "outputs": [
    {
     "name": "stdout",
     "output_type": "stream",
     "text": [
      "Found 15000 images belonging to 15 classes.\n",
      "Found 3000 images belonging to 15 classes.\n",
      "Found 3000 images belonging to 15 classes.\n"
     ]
    }
   ],
   "source": [
    "datagen = tf.keras.preprocessing.image.ImageDataGenerator(\n",
    "    rescale=1./255,zoom_range=0.5,rotation_range=45,horizontal_flip=True\n",
    ")\n",
    "train_generator = datagen.flow_from_directory(\n",
    "    TRAINING_DATA_DIR,\n",
    "    shuffle=True,\n",
    "    target_size=IMAGE_SHAPE,\n",
    ")\n",
    "valid_generator = datagen.flow_from_directory(\n",
    "    VALID_DATA_DIR,\n",
    "    shuffle=False,\n",
    "    target_size=IMAGE_SHAPE,\n",
    ")\n",
    "test_generator = datagen.flow_from_directory(\n",
    "    TEST_DATA_DIR,\n",
    "    shuffle=False,\n",
    "    target_size=IMAGE_SHAPE,\n",
    ")"
   ]
  },
  {
   "cell_type": "code",
   "execution_count": 84,
   "id": "3fda6a58",
   "metadata": {},
   "outputs": [],
   "source": [
    "def build_model(num_classes):\n",
    "    model = tf.keras.Sequential([\n",
    "    tf.keras.layers.Conv2D(filters=16, kernel_size=(9, 9), activation='relu', \n",
    "                           input_shape=(224, 224, 3)),\n",
    "    tf.keras.layers.MaxPooling2D(pool_size=(2, 2), strides=2),\n",
    "    tf.keras.layers.Conv2D(filters=16, kernel_size=(5, 5), activation='relu'),\n",
    "    tf.keras.layers.BatchNormalization(),\n",
    "    tf.keras.layers.MaxPooling2D(pool_size=(2, 2), strides=2),\n",
    "    tf.keras.layers.Conv2D(filters=32, kernel_size=(3, 3), activation='relu'),\n",
    "    tf.keras.layers.BatchNormalization(),\n",
    "    tf.keras.layers.MaxPooling2D(pool_size=(2, 2), strides=2),\n",
    "    tf.keras.layers.Flatten(),\n",
    "    tf.keras.layers.Dense(128, activation='relu'),\n",
    "    tf.keras.layers.Dropout(0.25),\n",
    "    tf.keras.layers.Dense(num_classes, activation='softmax')\n",
    "    ])\n",
    "    return model\n",
    "model = build_model(num_classes=15)"
   ]
  },
  {
   "cell_type": "code",
   "execution_count": 85,
   "id": "7cc890d1",
   "metadata": {},
   "outputs": [
    {
     "name": "stdout",
     "output_type": "stream",
     "text": [
      "Model: \"sequential_7\"\n",
      "_________________________________________________________________\n",
      " Layer (type)                Output Shape              Param #   \n",
      "=================================================================\n",
      " conv2d_25 (Conv2D)          (None, 216, 216, 16)      3904      \n",
      "                                                                 \n",
      " max_pooling2d_25 (MaxPoolin  (None, 108, 108, 16)     0         \n",
      " g2D)                                                            \n",
      "                                                                 \n",
      " conv2d_26 (Conv2D)          (None, 104, 104, 16)      6416      \n",
      "                                                                 \n",
      " batch_normalization_6 (Batc  (None, 104, 104, 16)     64        \n",
      " hNormalization)                                                 \n",
      "                                                                 \n",
      " max_pooling2d_26 (MaxPoolin  (None, 52, 52, 16)       0         \n",
      " g2D)                                                            \n",
      "                                                                 \n",
      " conv2d_27 (Conv2D)          (None, 50, 50, 32)        4640      \n",
      "                                                                 \n",
      " batch_normalization_7 (Batc  (None, 50, 50, 32)       128       \n",
      " hNormalization)                                                 \n",
      "                                                                 \n",
      " max_pooling2d_27 (MaxPoolin  (None, 25, 25, 32)       0         \n",
      " g2D)                                                            \n",
      "                                                                 \n",
      " flatten_7 (Flatten)         (None, 20000)             0         \n",
      "                                                                 \n",
      " dense_14 (Dense)            (None, 128)               2560128   \n",
      "                                                                 \n",
      " dropout_23 (Dropout)        (None, 128)               0         \n",
      "                                                                 \n",
      " dense_15 (Dense)            (None, 15)                1935      \n",
      "                                                                 \n",
      "=================================================================\n",
      "Total params: 2,577,215\n",
      "Trainable params: 2,577,119\n",
      "Non-trainable params: 96\n",
      "_________________________________________________________________\n",
      "None\n"
     ]
    }
   ],
   "source": [
    "model.compile(\n",
    "    optimizer=tf.keras.optimizers.Adam(learning_rate=0.001),\n",
    "    loss=tf.keras.losses.CategoricalCrossentropy(),\n",
    "    metrics=['accuracy']\n",
    ")\n",
    "print(model.summary())"
   ]
  },
  {
   "cell_type": "code",
   "execution_count": 86,
   "id": "fb2814d8",
   "metadata": {},
   "outputs": [
    {
     "name": "stdout",
     "output_type": "stream",
     "text": [
      "Epoch 1/10\n",
      "234/234 [==============================] - 279s 1s/step - loss: 2.5635 - accuracy: 0.2620 - val_loss: 3.0224 - val_accuracy: 0.0931\n",
      "Epoch 2/10\n",
      "234/234 [==============================] - 269s 1s/step - loss: 1.8668 - accuracy: 0.3933 - val_loss: 2.4834 - val_accuracy: 0.4022\n",
      "Epoch 3/10\n",
      "234/234 [==============================] - 297s 1s/step - loss: 1.6826 - accuracy: 0.4477 - val_loss: 2.3795 - val_accuracy: 0.2697\n",
      "Epoch 4/10\n",
      "234/234 [==============================] - 327s 1s/step - loss: 1.5429 - accuracy: 0.4828 - val_loss: 1.3435 - val_accuracy: 0.5279\n",
      "Epoch 5/10\n",
      "234/234 [==============================] - 331s 1s/step - loss: 1.3966 - accuracy: 0.5218 - val_loss: 1.6523 - val_accuracy: 0.4144\n",
      "Epoch 6/10\n",
      "234/234 [==============================] - 336s 1s/step - loss: 1.3043 - accuracy: 0.5536 - val_loss: 1.3320 - val_accuracy: 0.5543\n",
      "Epoch 7/10\n",
      "234/234 [==============================] - 333s 1s/step - loss: 1.2239 - accuracy: 0.5749 - val_loss: 1.2453 - val_accuracy: 0.5734\n",
      "Epoch 8/10\n",
      "234/234 [==============================] - 331s 1s/step - loss: 1.1658 - accuracy: 0.6058 - val_loss: 2.2627 - val_accuracy: 0.3865\n",
      "Epoch 9/10\n",
      "234/234 [==============================] - 341s 1s/step - loss: 1.0705 - accuracy: 0.6406 - val_loss: 1.2182 - val_accuracy: 0.5897\n",
      "Epoch 10/10\n",
      "234/234 [==============================] - 334s 1s/step - loss: 1.0452 - accuracy: 0.6368 - val_loss: 1.9438 - val_accuracy: 0.4885\n"
     ]
    }
   ],
   "source": [
    "EPOCHS = 10\n",
    "BATCH_SIZE = 32\n",
    "#early_stop = EarlyStopping(monitor='loss', patience=5, restore_best_weights = True)\n",
    "history = model.fit(train_generator,\n",
    "                    steps_per_epoch=train_generator.samples // BATCH_SIZE // 2,\n",
    "                    epochs=EPOCHS,\n",
    "                    validation_data=valid_generator,\n",
    "                    validation_steps= valid_generator.samples // BATCH_SIZE // 2,\n",
    "                    verbose=1,\n",
    "                    #callbacks=[early_stop],\n",
    "                    shuffle=True\n",
    "                    )"
   ]
  },
  {
   "cell_type": "code",
   "execution_count": 87,
   "id": "718b394c",
   "metadata": {},
   "outputs": [
    {
     "data": {
      "image/png": "[encoded data removed]",
      "text/plain": [
       "<Figure size 900x540 with 1 Axes>"
      ]
     },
     "metadata": {},
     "output_type": "display_data"
    }
   ],
   "source": [
    "history_dict = history.history\n",
    "acc_values = history_dict['accuracy']\n",
    "val_acc_values = history_dict['val_accuracy']\n",
    "epochs = range(1, len(acc_values) + 1)\n",
    "plt.figure(figsize=(10,6), dpi=90)\n",
    "plt.plot(epochs, val_acc_values, 'b', label='Validation')\n",
    "plt.plot(epochs, acc_values, 'r', label='Train')\n",
    "plt.xlabel('Epochs')\n",
    "plt.ylabel('accuracy')\n",
    "plt.legend()\n",
    "plt.show()"
   ]
  },
  {
   "cell_type": "code",
   "execution_count": 94,
   "id": "ddc99d9e",
   "metadata": {},
   "outputs": [
    {
     "name": "stdout",
     "output_type": "stream",
     "text": [
      "Found 15000 images belonging to 15 classes.\n",
      "Found 3000 images belonging to 15 classes.\n",
      "Found 3000 images belonging to 15 classes.\n"
     ]
    }
   ],
   "source": [
    "from tensorflow.keras.applications import VGG16\n",
    "# адаптируем нейросеть VGG16 с весами, полученными при обучении на imagenet под наши размеры изображения, \n",
    "# include_top=False - это означает, что последний (классифицирующий) слой мы отключаем\n",
    "vgg16_net = VGG16(weights='imagenet', include_top=False, input_shape=(IMG_SIZE, IMG_SIZE, 3)) \n",
    "\n",
    "datagen = tf.keras.preprocessing.image.ImageDataGenerator(\n",
    "    rescale=1./255\n",
    ")\n",
    "train_generator = datagen.flow_from_directory(\n",
    "    TRAINING_DATA_DIR,\n",
    "    shuffle=True,\n",
    "    target_size=IMAGE_SHAPE,\n",
    ")\n",
    "valid_generator = datagen.flow_from_directory(\n",
    "    VALID_DATA_DIR,\n",
    "    shuffle=False,\n",
    "    target_size=IMAGE_SHAPE,\n",
    ")\n",
    "test_generator = datagen.flow_from_directory(\n",
    "    TEST_DATA_DIR,\n",
    "    shuffle=False,\n",
    "    target_size=IMAGE_SHAPE,\n",
    ")"
   ]
  },
  {
   "cell_type": "code",
   "execution_count": 95,
   "id": "9642942e",
   "metadata": {},
   "outputs": [
    {
     "name": "stdout",
     "output_type": "stream",
     "text": [
      "Model: \"vgg16\"\n",
      "_________________________________________________________________\n",
      " Layer (type)                Output Shape              Param #   \n",
      "=================================================================\n",
      " input_2 (InputLayer)        [(None, 224, 224, 3)]     0         \n",
      "                                                                 \n",
      " block1_conv1 (Conv2D)       (None, 224, 224, 64)      1792      \n",
      "                                                                 \n",
      " block1_conv2 (Conv2D)       (None, 224, 224, 64)      36928     \n",
      "                                                                 \n",
      " block1_pool (MaxPooling2D)  (None, 112, 112, 64)      0         \n",
      "                                                                 \n",
      " block2_conv1 (Conv2D)       (None, 112, 112, 128)     73856     \n",
      "                                                                 \n",
      " block2_conv2 (Conv2D)       (None, 112, 112, 128)     147584    \n",
      "                                                                 \n",
      " block2_pool (MaxPooling2D)  (None, 56, 56, 128)       0         \n",
      "                                                                 \n",
      " block3_conv1 (Conv2D)       (None, 56, 56, 256)       295168    \n",
      "                                                                 \n",
      " block3_conv2 (Conv2D)       (None, 56, 56, 256)       590080    \n",
      "                                                                 \n",
      " block3_conv3 (Conv2D)       (None, 56, 56, 256)       590080    \n",
      "                                                                 \n",
      " block3_pool (MaxPooling2D)  (None, 28, 28, 256)       0         \n",
      "                                                                 \n",
      " block4_conv1 (Conv2D)       (None, 28, 28, 512)       1180160   \n",
      "                                                                 \n",
      " block4_conv2 (Conv2D)       (None, 28, 28, 512)       2359808   \n",
      "                                                                 \n",
      " block4_conv3 (Conv2D)       (None, 28, 28, 512)       2359808   \n",
      "                                                                 \n",
      " block4_pool (MaxPooling2D)  (None, 14, 14, 512)       0         \n",
      "                                                                 \n",
      " block5_conv1 (Conv2D)       (None, 14, 14, 512)       2359808   \n",
      "                                                                 \n",
      " block5_conv2 (Conv2D)       (None, 14, 14, 512)       2359808   \n",
      "                                                                 \n",
      " block5_conv3 (Conv2D)       (None, 14, 14, 512)       2359808   \n",
      "                                                                 \n",
      " block5_pool (MaxPooling2D)  (None, 7, 7, 512)         0         \n",
      "                                                                 \n",
      "=================================================================\n",
      "Total params: 14,714,688\n",
      "Trainable params: 0\n",
      "Non-trainable params: 14,714,688\n",
      "_________________________________________________________________\n"
     ]
    }
   ],
   "source": [
    "vgg16_net.trainable = False # \"Замораживаем\" (не позволяем менять) веса предварительно обученной нейронной сети VGG16\n",
    "vgg16_net.summary()"
   ]
  },
  {
   "cell_type": "code",
   "execution_count": 96,
   "id": "472b2b25",
   "metadata": {},
   "outputs": [],
   "source": [
    "# Создаем последовательную модель\n",
    "model = Sequential()\n",
    "\n",
    "# Добавляем в модель сеть VGG16 вместо групп сверточных слоев\n",
    "model.add(vgg16_net)\n",
    "\n",
    "# Полносвязная часть нейронной сети для классификации\n",
    "model.add(Flatten())\n",
    "model.add(Dense(512, activation='relu'))\n",
    "model.add(Dropout(0.5))\n",
    "\n",
    "# Выходной слой, 1 нейрон по количеству классов\n",
    "model.add(Dense(15, activation='sigmoid'))"
   ]
  },
  {
   "cell_type": "code",
   "execution_count": 97,
   "id": "3885d3a0",
   "metadata": {},
   "outputs": [],
   "source": [
    "model.compile(optimizer='adam',\n",
    "              loss='binary_crossentropy',\n",
    "              metrics=['accuracy'])"
   ]
  },
  {
   "cell_type": "code",
   "execution_count": 98,
   "id": "47eafa3b",
   "metadata": {},
   "outputs": [
    {
     "name": "stdout",
     "output_type": "stream",
     "text": [
      "Epoch 1/10\n",
      "234/234 [==============================] - 753s 3s/step - loss: 0.1320 - accuracy: 0.7588 - val_loss: 0.0255 - val_accuracy: 0.9633\n",
      "Epoch 2/10\n",
      "234/234 [==============================] - 781s 3s/step - loss: 0.0336 - accuracy: 0.9441 - val_loss: 0.0078 - val_accuracy: 0.9898\n",
      "Epoch 3/10\n",
      "234/234 [==============================] - 807s 3s/step - loss: 0.0188 - accuracy: 0.9718 - val_loss: 0.0076 - val_accuracy: 0.9898\n",
      "Epoch 4/10\n",
      "234/234 [==============================] - 798s 3s/step - loss: 0.0145 - accuracy: 0.9812 - val_loss: 0.0073 - val_accuracy: 0.9871\n",
      "Epoch 5/10\n",
      "234/234 [==============================] - 845s 4s/step - loss: 0.0131 - accuracy: 0.9828 - val_loss: 0.0063 - val_accuracy: 0.9898\n",
      "Epoch 6/10\n",
      "234/234 [==============================] - 824s 4s/step - loss: 0.0099 - accuracy: 0.9897 - val_loss: 0.0059 - val_accuracy: 0.9885\n",
      "Epoch 7/10\n",
      "234/234 [==============================] - 802s 3s/step - loss: 0.0086 - accuracy: 0.9898 - val_loss: 0.0056 - val_accuracy: 0.9898\n",
      "Epoch 8/10\n",
      "234/234 [==============================] - 838s 4s/step - loss: 0.0095 - accuracy: 0.9874 - val_loss: 0.0056 - val_accuracy: 0.9932\n",
      "Epoch 9/10\n",
      "234/234 [==============================] - 868s 4s/step - loss: 0.0116 - accuracy: 0.9849 - val_loss: 0.0057 - val_accuracy: 0.9905\n",
      "Epoch 10/10\n",
      "234/234 [==============================] - 826s 4s/step - loss: 0.0103 - accuracy: 0.9881 - val_loss: 0.0069 - val_accuracy: 0.9885\n"
     ]
    }
   ],
   "source": [
    "EPOCHS = 10\n",
    "BATCH_SIZE = 32\n",
    "#early_stop = EarlyStopping(monitor='loss', patience=5, restore_best_weights = True)\n",
    "history = model.fit(train_generator,\n",
    "                    steps_per_epoch=train_generator.samples // BATCH_SIZE // 2,\n",
    "                    epochs=EPOCHS,\n",
    "                    validation_data=valid_generator,\n",
    "                    validation_steps= valid_generator.samples // BATCH_SIZE // 2,\n",
    "                    verbose=1,\n",
    "                    #callbacks=[early_stop],\n",
    "                    shuffle=True\n",
    "                    )"
   ]
  },
  {
   "cell_type": "code",
   "execution_count": 99,
   "id": "e6735657",
   "metadata": {},
   "outputs": [
    {
     "data": {
      "image/png": "[encoded data removed]",
      "text/plain": [
       "<Figure size 900x540 with 1 Axes>"
      ]
     },
     "metadata": {},
     "output_type": "display_data"
    }
   ],
   "source": [
    "history_dict = history.history\n",
    "acc_values = history_dict['accuracy']\n",
    "val_acc_values = history_dict['val_accuracy']\n",
    "epochs = range(1, len(acc_values) + 1)\n",
    "plt.figure(figsize=(10,6), dpi=90)\n",
    "plt.plot(epochs, val_acc_values, 'b', label='Validation')\n",
    "plt.plot(epochs, acc_values, 'r', label='Train')\n",
    "plt.xlabel('Epochs')\n",
    "plt.ylabel('accuracy')\n",
    "plt.legend()\n",
    "plt.show()"
   ]
  },
  {
   "cell_type": "code",
   "execution_count": null,
   "id": "bb9c1310",
   "metadata": {},
   "outputs": [],
   "source": []
  }
 ],
 "metadata": {
  "kernelspec": {
   "display_name": "Python 3 (ipykernel)",
   "language": "python",
   "name": "python3"
  },
  "language_info": {
   "codemirror_mode": {
    "name": "ipython",
    "version": 3
   },
   "file_extension": ".py",
   "mimetype": "text/x-python",
   "name": "python",
   "nbconvert_exporter": "python",
   "pygments_lexer": "ipython3",
   "version": "3.9.13"
  }
 },
 "nbformat": 4,
 "nbformat_minor": 5
}
